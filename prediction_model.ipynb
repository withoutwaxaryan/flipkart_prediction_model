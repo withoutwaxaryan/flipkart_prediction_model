{
 "cells": [
  {
   "cell_type": "markdown",
   "metadata": {},
   "source": [
    "# MIDAS 2021 Summer Internship Evaluation Task 3 - NLP "
   ]
  },
  {
   "cell_type": "markdown",
   "metadata": {},
   "source": [
    "## Task : Use a given dataset to build a model to predict the category using description.\n",
    "\n",
    "\n",
    "Environment : I used a conda environment in my local machine (Ubuntu 18.04) to complete this task.\n",
    "\n",
    "Steps Followed : \n",
    "\n",
    "1. Data Exploration - Interpretation, Cleaning & Visualization\n",
    "2. Setup ML Models - Training & Testing Data on various ML Algorithms\n",
    "3. Iterative Data Processing -Optimization , Feature modifications, removing outliers/skewed data\n"
   ]
  },
  {
   "cell_type": "markdown",
   "metadata": {},
   "source": [
    "# Step 1 : Data Exploration"
   ]
  },
  {
   "cell_type": "code",
   "execution_count": 1,
   "metadata": {},
   "outputs": [],
   "source": [
    "# Importing the required libraries\n",
    "import nltk\n",
    "from nltk.corpus import stopwords\n",
    "import pandas as pd\n",
    "import numpy as np\n",
    "import matplotlib.pyplot as plt\n",
    "from sklearn.model_selection import train_test_split\n",
    "from sklearn.feature_extraction.text import CountVectorizer\n",
    "from sklearn.feature_extraction.text import TfidfVectorizer\n",
    "from sklearn import metrics\n",
    "from sklearn.pipeline import Pipeline\n",
    "from sklearn.svm import LinearSVC\n",
    "from sklearn.naive_bayes import MultinomialNB\n",
    "from sklearn.linear_model import LogisticRegression\n",
    "from sklearn.neighbors import KNeighborsClassifier\n",
    "from sklearn.ensemble import RandomForestClassifier"
   ]
  },
  {
   "cell_type": "code",
   "execution_count": 2,
   "metadata": {},
   "outputs": [],
   "source": [
    "# Dataset is given in csv form. So, import dataset as csv file using pandas.\n",
    "data = pd.read_csv(\"flipkart_inventory.csv\")"
   ]
  },
  {
   "cell_type": "markdown",
   "metadata": {},
   "source": [
    "### Exploring Data"
   ]
  },
  {
   "cell_type": "code",
   "execution_count": 3,
   "metadata": {},
   "outputs": [
    {
     "data": {
      "text/html": [
       "<div>\n",
       "<style scoped>\n",
       "    .dataframe tbody tr th:only-of-type {\n",
       "        vertical-align: middle;\n",
       "    }\n",
       "\n",
       "    .dataframe tbody tr th {\n",
       "        vertical-align: top;\n",
       "    }\n",
       "\n",
       "    .dataframe thead th {\n",
       "        text-align: right;\n",
       "    }\n",
       "</style>\n",
       "<table border=\"1\" class=\"dataframe\">\n",
       "  <thead>\n",
       "    <tr style=\"text-align: right;\">\n",
       "      <th></th>\n",
       "      <th>uniq_id</th>\n",
       "      <th>crawl_timestamp</th>\n",
       "      <th>product_url</th>\n",
       "      <th>product_name</th>\n",
       "      <th>product_category_tree</th>\n",
       "      <th>pid</th>\n",
       "      <th>retail_price</th>\n",
       "      <th>discounted_price</th>\n",
       "      <th>image</th>\n",
       "      <th>is_FK_Advantage_product</th>\n",
       "      <th>description</th>\n",
       "      <th>product_rating</th>\n",
       "      <th>overall_rating</th>\n",
       "      <th>brand</th>\n",
       "      <th>product_specifications</th>\n",
       "    </tr>\n",
       "  </thead>\n",
       "  <tbody>\n",
       "    <tr>\n",
       "      <th>0</th>\n",
       "      <td>c2d766ca982eca8304150849735ffef9</td>\n",
       "      <td>2016-03-25 22:59:23 +0000</td>\n",
       "      <td>http://www.flipkart.com/alisha-solid-women-s-c...</td>\n",
       "      <td>Alisha Solid Women's Cycling Shorts</td>\n",
       "      <td>[\"Clothing &gt;&gt; Women's Clothing &gt;&gt; Lingerie, Sl...</td>\n",
       "      <td>SRTEH2FF9KEDEFGF</td>\n",
       "      <td>999.0</td>\n",
       "      <td>379.0</td>\n",
       "      <td>[\"http://img5a.flixcart.com/image/short/u/4/a/...</td>\n",
       "      <td>False</td>\n",
       "      <td>Key Features of Alisha Solid Women's Cycling S...</td>\n",
       "      <td>No rating available</td>\n",
       "      <td>No rating available</td>\n",
       "      <td>Alisha</td>\n",
       "      <td>{\"product_specification\"=&gt;[{\"key\"=&gt;\"Number of ...</td>\n",
       "    </tr>\n",
       "    <tr>\n",
       "      <th>1</th>\n",
       "      <td>7f7036a6d550aaa89d34c77bd39a5e48</td>\n",
       "      <td>2016-03-25 22:59:23 +0000</td>\n",
       "      <td>http://www.flipkart.com/fabhomedecor-fabric-do...</td>\n",
       "      <td>FabHomeDecor Fabric Double Sofa Bed</td>\n",
       "      <td>[\"Furniture &gt;&gt; Living Room Furniture &gt;&gt; Sofa B...</td>\n",
       "      <td>SBEEH3QGU7MFYJFY</td>\n",
       "      <td>32157.0</td>\n",
       "      <td>22646.0</td>\n",
       "      <td>[\"http://img6a.flixcart.com/image/sofa-bed/j/f...</td>\n",
       "      <td>False</td>\n",
       "      <td>FabHomeDecor Fabric Double Sofa Bed (Finish Co...</td>\n",
       "      <td>No rating available</td>\n",
       "      <td>No rating available</td>\n",
       "      <td>FabHomeDecor</td>\n",
       "      <td>{\"product_specification\"=&gt;[{\"key\"=&gt;\"Installati...</td>\n",
       "    </tr>\n",
       "    <tr>\n",
       "      <th>2</th>\n",
       "      <td>f449ec65dcbc041b6ae5e6a32717d01b</td>\n",
       "      <td>2016-03-25 22:59:23 +0000</td>\n",
       "      <td>http://www.flipkart.com/aw-bellies/p/itmeh4grg...</td>\n",
       "      <td>AW Bellies</td>\n",
       "      <td>[\"Footwear &gt;&gt; Women's Footwear &gt;&gt; Ballerinas &gt;...</td>\n",
       "      <td>SHOEH4GRSUBJGZXE</td>\n",
       "      <td>999.0</td>\n",
       "      <td>499.0</td>\n",
       "      <td>[\"http://img5a.flixcart.com/image/shoe/7/z/z/r...</td>\n",
       "      <td>False</td>\n",
       "      <td>Key Features of AW Bellies Sandals Wedges Heel...</td>\n",
       "      <td>No rating available</td>\n",
       "      <td>No rating available</td>\n",
       "      <td>AW</td>\n",
       "      <td>{\"product_specification\"=&gt;[{\"key\"=&gt;\"Ideal For\"...</td>\n",
       "    </tr>\n",
       "    <tr>\n",
       "      <th>3</th>\n",
       "      <td>0973b37acd0c664e3de26e97e5571454</td>\n",
       "      <td>2016-03-25 22:59:23 +0000</td>\n",
       "      <td>http://www.flipkart.com/alisha-solid-women-s-c...</td>\n",
       "      <td>Alisha Solid Women's Cycling Shorts</td>\n",
       "      <td>[\"Clothing &gt;&gt; Women's Clothing &gt;&gt; Lingerie, Sl...</td>\n",
       "      <td>SRTEH2F6HUZMQ6SJ</td>\n",
       "      <td>699.0</td>\n",
       "      <td>267.0</td>\n",
       "      <td>[\"http://img5a.flixcart.com/image/short/6/2/h/...</td>\n",
       "      <td>False</td>\n",
       "      <td>Key Features of Alisha Solid Women's Cycling S...</td>\n",
       "      <td>No rating available</td>\n",
       "      <td>No rating available</td>\n",
       "      <td>Alisha</td>\n",
       "      <td>{\"product_specification\"=&gt;[{\"key\"=&gt;\"Number of ...</td>\n",
       "    </tr>\n",
       "    <tr>\n",
       "      <th>4</th>\n",
       "      <td>bc940ea42ee6bef5ac7cea3fb5cfbee7</td>\n",
       "      <td>2016-03-25 22:59:23 +0000</td>\n",
       "      <td>http://www.flipkart.com/sicons-all-purpose-arn...</td>\n",
       "      <td>Sicons All Purpose Arnica Dog Shampoo</td>\n",
       "      <td>[\"Pet Supplies &gt;&gt; Grooming &gt;&gt; Skin &amp; Coat Care...</td>\n",
       "      <td>PSOEH3ZYDMSYARJ5</td>\n",
       "      <td>220.0</td>\n",
       "      <td>210.0</td>\n",
       "      <td>[\"http://img5a.flixcart.com/image/pet-shampoo/...</td>\n",
       "      <td>False</td>\n",
       "      <td>Specifications of Sicons All Purpose Arnica Do...</td>\n",
       "      <td>No rating available</td>\n",
       "      <td>No rating available</td>\n",
       "      <td>Sicons</td>\n",
       "      <td>{\"product_specification\"=&gt;[{\"key\"=&gt;\"Pet Type\",...</td>\n",
       "    </tr>\n",
       "  </tbody>\n",
       "</table>\n",
       "</div>"
      ],
      "text/plain": [
       "                            uniq_id            crawl_timestamp  \\\n",
       "0  c2d766ca982eca8304150849735ffef9  2016-03-25 22:59:23 +0000   \n",
       "1  7f7036a6d550aaa89d34c77bd39a5e48  2016-03-25 22:59:23 +0000   \n",
       "2  f449ec65dcbc041b6ae5e6a32717d01b  2016-03-25 22:59:23 +0000   \n",
       "3  0973b37acd0c664e3de26e97e5571454  2016-03-25 22:59:23 +0000   \n",
       "4  bc940ea42ee6bef5ac7cea3fb5cfbee7  2016-03-25 22:59:23 +0000   \n",
       "\n",
       "                                         product_url  \\\n",
       "0  http://www.flipkart.com/alisha-solid-women-s-c...   \n",
       "1  http://www.flipkart.com/fabhomedecor-fabric-do...   \n",
       "2  http://www.flipkart.com/aw-bellies/p/itmeh4grg...   \n",
       "3  http://www.flipkart.com/alisha-solid-women-s-c...   \n",
       "4  http://www.flipkart.com/sicons-all-purpose-arn...   \n",
       "\n",
       "                            product_name  \\\n",
       "0    Alisha Solid Women's Cycling Shorts   \n",
       "1    FabHomeDecor Fabric Double Sofa Bed   \n",
       "2                             AW Bellies   \n",
       "3    Alisha Solid Women's Cycling Shorts   \n",
       "4  Sicons All Purpose Arnica Dog Shampoo   \n",
       "\n",
       "                               product_category_tree               pid  \\\n",
       "0  [\"Clothing >> Women's Clothing >> Lingerie, Sl...  SRTEH2FF9KEDEFGF   \n",
       "1  [\"Furniture >> Living Room Furniture >> Sofa B...  SBEEH3QGU7MFYJFY   \n",
       "2  [\"Footwear >> Women's Footwear >> Ballerinas >...  SHOEH4GRSUBJGZXE   \n",
       "3  [\"Clothing >> Women's Clothing >> Lingerie, Sl...  SRTEH2F6HUZMQ6SJ   \n",
       "4  [\"Pet Supplies >> Grooming >> Skin & Coat Care...  PSOEH3ZYDMSYARJ5   \n",
       "\n",
       "   retail_price  discounted_price  \\\n",
       "0         999.0             379.0   \n",
       "1       32157.0           22646.0   \n",
       "2         999.0             499.0   \n",
       "3         699.0             267.0   \n",
       "4         220.0             210.0   \n",
       "\n",
       "                                               image  is_FK_Advantage_product  \\\n",
       "0  [\"http://img5a.flixcart.com/image/short/u/4/a/...                    False   \n",
       "1  [\"http://img6a.flixcart.com/image/sofa-bed/j/f...                    False   \n",
       "2  [\"http://img5a.flixcart.com/image/shoe/7/z/z/r...                    False   \n",
       "3  [\"http://img5a.flixcart.com/image/short/6/2/h/...                    False   \n",
       "4  [\"http://img5a.flixcart.com/image/pet-shampoo/...                    False   \n",
       "\n",
       "                                         description       product_rating  \\\n",
       "0  Key Features of Alisha Solid Women's Cycling S...  No rating available   \n",
       "1  FabHomeDecor Fabric Double Sofa Bed (Finish Co...  No rating available   \n",
       "2  Key Features of AW Bellies Sandals Wedges Heel...  No rating available   \n",
       "3  Key Features of Alisha Solid Women's Cycling S...  No rating available   \n",
       "4  Specifications of Sicons All Purpose Arnica Do...  No rating available   \n",
       "\n",
       "        overall_rating         brand  \\\n",
       "0  No rating available        Alisha   \n",
       "1  No rating available  FabHomeDecor   \n",
       "2  No rating available            AW   \n",
       "3  No rating available        Alisha   \n",
       "4  No rating available        Sicons   \n",
       "\n",
       "                              product_specifications  \n",
       "0  {\"product_specification\"=>[{\"key\"=>\"Number of ...  \n",
       "1  {\"product_specification\"=>[{\"key\"=>\"Installati...  \n",
       "2  {\"product_specification\"=>[{\"key\"=>\"Ideal For\"...  \n",
       "3  {\"product_specification\"=>[{\"key\"=>\"Number of ...  \n",
       "4  {\"product_specification\"=>[{\"key\"=>\"Pet Type\",...  "
      ]
     },
     "execution_count": 3,
     "metadata": {},
     "output_type": "execute_result"
    }
   ],
   "source": [
    "data.head()"
   ]
  },
  {
   "cell_type": "code",
   "execution_count": 4,
   "metadata": {
    "scrolled": true
   },
   "outputs": [
    {
     "name": "stdout",
     "output_type": "stream",
     "text": [
      "<class 'pandas.core.frame.DataFrame'>\n",
      "RangeIndex: 20000 entries, 0 to 19999\n",
      "Data columns (total 15 columns):\n",
      " #   Column                   Non-Null Count  Dtype  \n",
      "---  ------                   --------------  -----  \n",
      " 0   uniq_id                  20000 non-null  object \n",
      " 1   crawl_timestamp          20000 non-null  object \n",
      " 2   product_url              20000 non-null  object \n",
      " 3   product_name             20000 non-null  object \n",
      " 4   product_category_tree    20000 non-null  object \n",
      " 5   pid                      20000 non-null  object \n",
      " 6   retail_price             19922 non-null  float64\n",
      " 7   discounted_price         19922 non-null  float64\n",
      " 8   image                    19997 non-null  object \n",
      " 9   is_FK_Advantage_product  20000 non-null  bool   \n",
      " 10  description              19998 non-null  object \n",
      " 11  product_rating           20000 non-null  object \n",
      " 12  overall_rating           20000 non-null  object \n",
      " 13  brand                    14136 non-null  object \n",
      " 14  product_specifications   19986 non-null  object \n",
      "dtypes: bool(1), float64(2), object(12)\n",
      "memory usage: 2.2+ MB\n"
     ]
    }
   ],
   "source": [
    "data.info()"
   ]
  },
  {
   "cell_type": "markdown",
   "metadata": {},
   "source": [
    "The given dataset has lots of columns which don't help in predicting the category. Though these columns are not\n",
    "causing any problems other than computing power, I would still like to remove them so I can analyze the relevant\n",
    "columns better."
   ]
  },
  {
   "cell_type": "markdown",
   "metadata": {},
   "source": [
    "Irrelevant columns to remove are : \n",
    "\n",
    "* uniq_id\n",
    "* crawl_timestamp\n",
    "* product_url\n",
    "* pid\n",
    "* retail_price\n",
    "* discounted_price\n",
    "* image\n",
    "* is_FK_Advantage_product\n",
    "* product_rating\n",
    "* overall_rating\n",
    "\n",
    "Although brand as a feature looks promising, however it has almost 25% of data missing. Therefore it should be removed as well."
   ]
  },
  {
   "cell_type": "code",
   "execution_count": 5,
   "metadata": {},
   "outputs": [],
   "source": [
    "data = data.drop(['uniq_id', 'crawl_timestamp', 'product_url', 'pid', 'retail_price', 'discounted_price', 'image',\n",
    "          'is_FK_Advantage_product', 'product_rating', 'overall_rating', 'brand'], axis = 1)"
   ]
  },
  {
   "cell_type": "markdown",
   "metadata": {},
   "source": [
    "product_specifications and product_name can be good features for the task. However, as per condition of the task, 'description' should be the main feature. Therefore I won't be using these features too."
   ]
  },
  {
   "cell_type": "code",
   "execution_count": 6,
   "metadata": {},
   "outputs": [
    {
     "data": {
      "text/html": [
       "<div>\n",
       "<style scoped>\n",
       "    .dataframe tbody tr th:only-of-type {\n",
       "        vertical-align: middle;\n",
       "    }\n",
       "\n",
       "    .dataframe tbody tr th {\n",
       "        vertical-align: top;\n",
       "    }\n",
       "\n",
       "    .dataframe thead th {\n",
       "        text-align: right;\n",
       "    }\n",
       "</style>\n",
       "<table border=\"1\" class=\"dataframe\">\n",
       "  <thead>\n",
       "    <tr style=\"text-align: right;\">\n",
       "      <th></th>\n",
       "      <th>product_category_tree</th>\n",
       "      <th>description</th>\n",
       "    </tr>\n",
       "  </thead>\n",
       "  <tbody>\n",
       "    <tr>\n",
       "      <th>0</th>\n",
       "      <td>[\"Clothing &gt;&gt; Women's Clothing &gt;&gt; Lingerie, Sl...</td>\n",
       "      <td>Key Features of Alisha Solid Women's Cycling S...</td>\n",
       "    </tr>\n",
       "    <tr>\n",
       "      <th>1</th>\n",
       "      <td>[\"Furniture &gt;&gt; Living Room Furniture &gt;&gt; Sofa B...</td>\n",
       "      <td>FabHomeDecor Fabric Double Sofa Bed (Finish Co...</td>\n",
       "    </tr>\n",
       "    <tr>\n",
       "      <th>2</th>\n",
       "      <td>[\"Footwear &gt;&gt; Women's Footwear &gt;&gt; Ballerinas &gt;...</td>\n",
       "      <td>Key Features of AW Bellies Sandals Wedges Heel...</td>\n",
       "    </tr>\n",
       "    <tr>\n",
       "      <th>3</th>\n",
       "      <td>[\"Clothing &gt;&gt; Women's Clothing &gt;&gt; Lingerie, Sl...</td>\n",
       "      <td>Key Features of Alisha Solid Women's Cycling S...</td>\n",
       "    </tr>\n",
       "    <tr>\n",
       "      <th>4</th>\n",
       "      <td>[\"Pet Supplies &gt;&gt; Grooming &gt;&gt; Skin &amp; Coat Care...</td>\n",
       "      <td>Specifications of Sicons All Purpose Arnica Do...</td>\n",
       "    </tr>\n",
       "  </tbody>\n",
       "</table>\n",
       "</div>"
      ],
      "text/plain": [
       "                               product_category_tree  \\\n",
       "0  [\"Clothing >> Women's Clothing >> Lingerie, Sl...   \n",
       "1  [\"Furniture >> Living Room Furniture >> Sofa B...   \n",
       "2  [\"Footwear >> Women's Footwear >> Ballerinas >...   \n",
       "3  [\"Clothing >> Women's Clothing >> Lingerie, Sl...   \n",
       "4  [\"Pet Supplies >> Grooming >> Skin & Coat Care...   \n",
       "\n",
       "                                         description  \n",
       "0  Key Features of Alisha Solid Women's Cycling S...  \n",
       "1  FabHomeDecor Fabric Double Sofa Bed (Finish Co...  \n",
       "2  Key Features of AW Bellies Sandals Wedges Heel...  \n",
       "3  Key Features of Alisha Solid Women's Cycling S...  \n",
       "4  Specifications of Sicons All Purpose Arnica Do...  "
      ]
     },
     "execution_count": 6,
     "metadata": {},
     "output_type": "execute_result"
    }
   ],
   "source": [
    "data = data.drop(['product_name', 'product_specifications'], axis = 1)\n",
    "data.head()"
   ]
  },
  {
   "cell_type": "code",
   "execution_count": 7,
   "metadata": {},
   "outputs": [
    {
     "name": "stdout",
     "output_type": "stream",
     "text": [
      "<class 'pandas.core.frame.DataFrame'>\n",
      "RangeIndex: 20000 entries, 0 to 19999\n",
      "Data columns (total 2 columns):\n",
      " #   Column                 Non-Null Count  Dtype \n",
      "---  ------                 --------------  ----- \n",
      " 0   product_category_tree  20000 non-null  object\n",
      " 1   description            19998 non-null  object\n",
      "dtypes: object(2)\n",
      "memory usage: 312.6+ KB\n"
     ]
    }
   ],
   "source": [
    "data.info()"
   ]
  },
  {
   "cell_type": "markdown",
   "metadata": {},
   "source": [
    "From the above table, two products have their description missing. Since description is the only feature being used, its not possible to predict their category. Therefore remove those rows."
   ]
  },
  {
   "cell_type": "code",
   "execution_count": 8,
   "metadata": {},
   "outputs": [
    {
     "data": {
      "text/plain": [
       "Int64Index([553, 17299], dtype='int64')"
      ]
     },
     "execution_count": 8,
     "metadata": {},
     "output_type": "execute_result"
    }
   ],
   "source": [
    "# Find rows which contain null value in 'description' column\n",
    "data[data['description'].isnull()].index"
   ]
  },
  {
   "cell_type": "code",
   "execution_count": 9,
   "metadata": {},
   "outputs": [],
   "source": [
    "# Drop null rows.\n",
    "# inplace = True makes the change permanent.\n",
    "data.drop([553, 17299] , inplace = True)"
   ]
  },
  {
   "cell_type": "code",
   "execution_count": 10,
   "metadata": {},
   "outputs": [
    {
     "name": "stdout",
     "output_type": "stream",
     "text": [
      "<class 'pandas.core.frame.DataFrame'>\n",
      "Int64Index: 19998 entries, 0 to 19999\n",
      "Data columns (total 2 columns):\n",
      " #   Column                 Non-Null Count  Dtype \n",
      "---  ------                 --------------  ----- \n",
      " 0   product_category_tree  19998 non-null  object\n",
      " 1   description            19998 non-null  object\n",
      "dtypes: object(2)\n",
      "memory usage: 468.7+ KB\n"
     ]
    }
   ],
   "source": [
    "data.info()"
   ]
  },
  {
   "cell_type": "markdown",
   "metadata": {},
   "source": [
    "### The Task demands figuring out the primary category, and using it in the model.\n",
    "\n",
    "I believe the primary category to be the root of every row of the product_category_tree.\n",
    "\n",
    "Reason #1 : Primary means first i.e. the first category.\n",
    "\n",
    "Reason #2 : Taking an example of 'Pet Supplies >> Grooming'. Grooming can't be the primary category as grooming can stand for both humans and pets. Therefore, before Grooming, the category should be either 'Pet Supplies', or 'Men/Women/Kids'. This means the primary category should be the root of the tree."
   ]
  },
  {
   "cell_type": "code",
   "execution_count": 11,
   "metadata": {
    "scrolled": true
   },
   "outputs": [
    {
     "data": {
      "text/html": [
       "<div>\n",
       "<style scoped>\n",
       "    .dataframe tbody tr th:only-of-type {\n",
       "        vertical-align: middle;\n",
       "    }\n",
       "\n",
       "    .dataframe tbody tr th {\n",
       "        vertical-align: top;\n",
       "    }\n",
       "\n",
       "    .dataframe thead th {\n",
       "        text-align: right;\n",
       "    }\n",
       "</style>\n",
       "<table border=\"1\" class=\"dataframe\">\n",
       "  <thead>\n",
       "    <tr style=\"text-align: right;\">\n",
       "      <th></th>\n",
       "      <th>product_category_tree</th>\n",
       "      <th>description</th>\n",
       "      <th>primary_category</th>\n",
       "    </tr>\n",
       "  </thead>\n",
       "  <tbody>\n",
       "    <tr>\n",
       "      <th>0</th>\n",
       "      <td>[\"Clothing &gt;&gt; Women's Clothing &gt;&gt; Lingerie, Sl...</td>\n",
       "      <td>Key Features of Alisha Solid Women's Cycling S...</td>\n",
       "      <td></td>\n",
       "    </tr>\n",
       "    <tr>\n",
       "      <th>1</th>\n",
       "      <td>[\"Furniture &gt;&gt; Living Room Furniture &gt;&gt; Sofa B...</td>\n",
       "      <td>FabHomeDecor Fabric Double Sofa Bed (Finish Co...</td>\n",
       "      <td></td>\n",
       "    </tr>\n",
       "    <tr>\n",
       "      <th>2</th>\n",
       "      <td>[\"Footwear &gt;&gt; Women's Footwear &gt;&gt; Ballerinas &gt;...</td>\n",
       "      <td>Key Features of AW Bellies Sandals Wedges Heel...</td>\n",
       "      <td></td>\n",
       "    </tr>\n",
       "    <tr>\n",
       "      <th>3</th>\n",
       "      <td>[\"Clothing &gt;&gt; Women's Clothing &gt;&gt; Lingerie, Sl...</td>\n",
       "      <td>Key Features of Alisha Solid Women's Cycling S...</td>\n",
       "      <td></td>\n",
       "    </tr>\n",
       "    <tr>\n",
       "      <th>4</th>\n",
       "      <td>[\"Pet Supplies &gt;&gt; Grooming &gt;&gt; Skin &amp; Coat Care...</td>\n",
       "      <td>Specifications of Sicons All Purpose Arnica Do...</td>\n",
       "      <td></td>\n",
       "    </tr>\n",
       "  </tbody>\n",
       "</table>\n",
       "</div>"
      ],
      "text/plain": [
       "                               product_category_tree  \\\n",
       "0  [\"Clothing >> Women's Clothing >> Lingerie, Sl...   \n",
       "1  [\"Furniture >> Living Room Furniture >> Sofa B...   \n",
       "2  [\"Footwear >> Women's Footwear >> Ballerinas >...   \n",
       "3  [\"Clothing >> Women's Clothing >> Lingerie, Sl...   \n",
       "4  [\"Pet Supplies >> Grooming >> Skin & Coat Care...   \n",
       "\n",
       "                                         description primary_category  \n",
       "0  Key Features of Alisha Solid Women's Cycling S...                   \n",
       "1  FabHomeDecor Fabric Double Sofa Bed (Finish Co...                   \n",
       "2  Key Features of AW Bellies Sandals Wedges Heel...                   \n",
       "3  Key Features of Alisha Solid Women's Cycling S...                   \n",
       "4  Specifications of Sicons All Purpose Arnica Do...                   "
      ]
     },
     "execution_count": 11,
     "metadata": {},
     "output_type": "execute_result"
    }
   ],
   "source": [
    "# Create an empty column for Primary Category\n",
    "data[\"primary_category\"] = \"\"\n",
    "data.head()"
   ]
  },
  {
   "cell_type": "markdown",
   "metadata": {},
   "source": [
    "Observation 1 :  each row of the product_category_tree starts with \\[\\\" and ends with \\\"\\]\n",
    "\n",
    "Observation 2 : Some rows do not have sub-categories. i.e. the Primary category is the only category.\n",
    "                This means those entries won't have '>>'. (Experiment Log #1)"
   ]
  },
  {
   "cell_type": "code",
   "execution_count": 12,
   "metadata": {},
   "outputs": [
    {
     "name": "stdout",
     "output_type": "stream",
     "text": [
      "0        Clothing >> Women's Clothing >> Lingerie, Slee...\n",
      "1        Furniture >> Living Room Furniture >> Sofa Bed...\n",
      "2        Footwear >> Women's Footwear >> Ballerinas >> ...\n",
      "3        Clothing >> Women's Clothing >> Lingerie, Slee...\n",
      "4        Pet Supplies >> Grooming >> Skin & Coat Care >...\n",
      "                               ...                        \n",
      "19995    Baby Care >> Baby & Kids Gifts >> Stickers >> ...\n",
      "19996    Baby Care >> Baby & Kids Gifts >> Stickers >> ...\n",
      "19997    Baby Care >> Baby & Kids Gifts >> Stickers >> ...\n",
      "19998    Baby Care >> Baby & Kids Gifts >> Stickers >> ...\n",
      "19999    Baby Care >> Baby & Kids Gifts >> Stickers >> ...\n",
      "Name: product_category_tree, Length: 19998, dtype: object\n"
     ]
    }
   ],
   "source": [
    "# Removing the starting and ending tags.\n",
    "data[\"product_category_tree\"] = data[\"product_category_tree\"].str.slice(2, -2, 1)\n",
    "print(data['product_category_tree'])"
   ]
  },
  {
   "cell_type": "code",
   "execution_count": 13,
   "metadata": {},
   "outputs": [
    {
     "name": "stdout",
     "output_type": "stream",
     "text": [
      "0            Clothing\n",
      "1           Furniture\n",
      "2            Footwear\n",
      "3            Clothing\n",
      "4        Pet Supplies\n",
      "             ...     \n",
      "19995       Baby Care\n",
      "19996       Baby Care\n",
      "19997       Baby Care\n",
      "19998       Baby Care\n",
      "19999       Baby Care\n",
      "Name: primary_category, Length: 19998, dtype: object\n"
     ]
    }
   ],
   "source": [
    "# Splitting entries around the '>>' and populating primary_category column\n",
    "data['primary_category'] = data['product_category_tree'].str.split(' >>').str[0]\n",
    "print(data['primary_category'])"
   ]
  },
  {
   "cell_type": "code",
   "execution_count": 14,
   "metadata": {
    "scrolled": true
   },
   "outputs": [
    {
     "name": "stdout",
     "output_type": "stream",
     "text": [
      "265\n"
     ]
    }
   ],
   "source": [
    "# To check how many unique categories are present\n",
    "print(len(data['primary_category'].value_counts()))"
   ]
  },
  {
   "cell_type": "code",
   "execution_count": 15,
   "metadata": {},
   "outputs": [
    {
     "data": {
      "text/plain": [
       "0"
      ]
     },
     "execution_count": 15,
     "metadata": {},
     "output_type": "execute_result"
    }
   ],
   "source": [
    "# Confirming absence of null data\n",
    "data[\"primary_category\"].isnull().sum()"
   ]
  },
  {
   "cell_type": "code",
   "execution_count": 16,
   "metadata": {},
   "outputs": [
    {
     "data": {
      "text/html": [
       "<div>\n",
       "<style scoped>\n",
       "    .dataframe tbody tr th:only-of-type {\n",
       "        vertical-align: middle;\n",
       "    }\n",
       "\n",
       "    .dataframe tbody tr th {\n",
       "        vertical-align: top;\n",
       "    }\n",
       "\n",
       "    .dataframe thead th {\n",
       "        text-align: right;\n",
       "    }\n",
       "</style>\n",
       "<table border=\"1\" class=\"dataframe\">\n",
       "  <thead>\n",
       "    <tr style=\"text-align: right;\">\n",
       "      <th></th>\n",
       "      <th>product_category_tree</th>\n",
       "      <th>description</th>\n",
       "      <th>primary_category</th>\n",
       "    </tr>\n",
       "  </thead>\n",
       "  <tbody>\n",
       "    <tr>\n",
       "      <th>count</th>\n",
       "      <td>19998</td>\n",
       "      <td>19998</td>\n",
       "      <td>19998</td>\n",
       "    </tr>\n",
       "    <tr>\n",
       "      <th>unique</th>\n",
       "      <td>6466</td>\n",
       "      <td>17539</td>\n",
       "      <td>265</td>\n",
       "    </tr>\n",
       "    <tr>\n",
       "      <th>top</th>\n",
       "      <td>Jewellery &gt;&gt; Necklaces &amp; Chains &gt;&gt; Necklaces</td>\n",
       "      <td>TheLostPuppy Back Cover for Apple iPad Air (Mu...</td>\n",
       "      <td>Clothing</td>\n",
       "    </tr>\n",
       "    <tr>\n",
       "      <th>freq</th>\n",
       "      <td>1567</td>\n",
       "      <td>92</td>\n",
       "      <td>6197</td>\n",
       "    </tr>\n",
       "  </tbody>\n",
       "</table>\n",
       "</div>"
      ],
      "text/plain": [
       "                               product_category_tree  \\\n",
       "count                                          19998   \n",
       "unique                                          6466   \n",
       "top     Jewellery >> Necklaces & Chains >> Necklaces   \n",
       "freq                                            1567   \n",
       "\n",
       "                                              description primary_category  \n",
       "count                                               19998            19998  \n",
       "unique                                              17539              265  \n",
       "top     TheLostPuppy Back Cover for Apple iPad Air (Mu...         Clothing  \n",
       "freq                                                   92             6197  "
      ]
     },
     "execution_count": 16,
     "metadata": {},
     "output_type": "execute_result"
    }
   ],
   "source": [
    "# This can also be done using the single command below\n",
    "data.describe()"
   ]
  },
  {
   "cell_type": "code",
   "execution_count": 17,
   "metadata": {
    "scrolled": true
   },
   "outputs": [
    {
     "name": "stdout",
     "output_type": "stream",
     "text": [
      "Clothing                                               6197\n",
      "Jewellery                                              3531\n",
      "Footwear                                               1227\n",
      "Mobiles & Accessories                                  1099\n",
      "Automotive                                             1012\n",
      "                                                       ... \n",
      "kem Flow Gold skinny Fit Baby Girl's Blue Jeans           1\n",
      "NEWGEN TECH EO-HS3303 58 Wired Headset (White)            1\n",
      "e-Fresh Boy's Brief (Pack of 5)                           1\n",
      "AutoKraftZ Optimum Locking Device For Bajaj Puls...       1\n",
      "OEM 170774 Bike Side Stand                                1\n",
      "Name: primary_category, Length: 265, dtype: int64\n"
     ]
    }
   ],
   "source": [
    "# Lets check out the number of products in each unique group of 'primary_category' column\n",
    "print(data['primary_category'].value_counts())"
   ]
  },
  {
   "cell_type": "markdown",
   "metadata": {},
   "source": [
    "At the end of the list, we see a number of items which don't seem to have a generic category.\n",
    "\n",
    "They look quite specific, and since there is only 1 product in these specific categories, they cannot be used as primary category. Let's see if we can further manipulate this data, or we have to remove it."
   ]
  },
  {
   "cell_type": "code",
   "execution_count": 18,
   "metadata": {},
   "outputs": [
    {
     "name": "stdout",
     "output_type": "stream",
     "text": [
      "Clothing                                               6197\n",
      "Jewellery                                              3531\n",
      "Footwear                                               1227\n",
      "Mobiles & Accessories                                  1099\n",
      "Automotive                                             1012\n",
      "Home Decor & Festive Needs                              929\n",
      "Beauty and Personal Care                                710\n",
      "Home Furnishing                                         699\n",
      "Kitchen & Dining                                        647\n",
      "Computers                                               578\n",
      "Watches                                                 530\n",
      "Baby Care                                               483\n",
      "Tools & Hardware                                        391\n",
      "Toys & School Supplies                                  330\n",
      "Pens & Stationery                                       313\n",
      "Bags, Wallets & Belts                                   265\n",
      "Furniture                                               180\n",
      "Sports & Fitness                                        166\n",
      "Cameras & Accessories                                    82\n",
      "Home Improvement                                         81\n",
      "Health & Personal Care Appliances                        43\n",
      "Sunglasses                                               40\n",
      "Gaming                                                   35\n",
      "Pet Supplies                                             30\n",
      "Home & Kitchen                                           24\n",
      "Home Entertainment                                       19\n",
      "eBooks                                                   15\n",
      "Eyewear                                                  10\n",
      "Clovia Women's Full Coverage Bra                          9\n",
      "Lilliput Top Baby Girl's  Combo                           8\n",
      "Vishudh Printed Women's Straight Kurta                    8\n",
      "Olvin Aviator Sunglasses                                  7\n",
      "Clovia Women's T-Shirt Bra                                6\n",
      "MASARA Solid Women's Straight Kurta                       5\n",
      "Household Supplies                                        4\n",
      "FEET FLOW Women Flats                                     4\n",
      "Firangi Cotton, Polyester Free Floor Mat Firangi...       4\n",
      "Dressberry Gold Synthetic  Clutch                         4\n",
      "Pu-Good Women Flats                                       4\n",
      "Olvin Wayfarer Sunglasses                                 4\n",
      "Dilan Jewels Alloy Zircon 18K Yellow Gold Bangle...       3\n",
      "Dassler Slim Fit Women's Multicolor Jeans                 3\n",
      "Frabjous German silver Rings For Women Alloy Zir...       3\n",
      "Treppe Bellies                                            3\n",
      "Olvin Oval Sunglasses                                     3\n",
      "Indistar Self Design Viscose Women's Stole                3\n",
      "Pout Brass Bangle                                         3\n",
      "Ruhi's Creations Polyester Silk Blend Cartoon Ki...       3\n",
      "Name: primary_category, dtype: int64\n"
     ]
    }
   ],
   "source": [
    "value_count = data['primary_category'].value_counts()\n",
    "print(value_count[value_count > 2])"
   ]
  },
  {
   "cell_type": "markdown",
   "metadata": {},
   "source": [
    "There are certain categories (having items < 10), which also seem quite specific to be primary categories.\n",
    "However, they have multiple products in each, still they are not primary categories.\n",
    "\n",
    "Therefore, we can either remove these specific categories, or manually categorize them into better primary categories.\n",
    "\n"
   ]
  },
  {
   "cell_type": "code",
   "execution_count": 19,
   "metadata": {},
   "outputs": [
    {
     "name": "stdout",
     "output_type": "stream",
     "text": [
      "217 categories have less than 3 objects in them --> 217 objects dont have any category\n"
     ]
    }
   ],
   "source": [
    "print(str(len(value_count[value_count < 3])) + \" categories have less than 3 objects in them --> 217 objects dont have any category\")"
   ]
  },
  {
   "cell_type": "code",
   "execution_count": 20,
   "metadata": {},
   "outputs": [
    {
     "name": "stdout",
     "output_type": "stream",
     "text": [
      "28 categories have more than or equal to 10 objects in them\n"
     ]
    }
   ],
   "source": [
    "print(str(len(value_count[value_count >= 10])) + \" categories have more than or equal to 10 objects in them\")"
   ]
  },
  {
   "cell_type": "code",
   "execution_count": 21,
   "metadata": {
    "scrolled": true
   },
   "outputs": [
    {
     "data": {
      "text/plain": [
       "<AxesSubplot:>"
      ]
     },
     "execution_count": 21,
     "metadata": {},
     "output_type": "execute_result"
    },
    {
     "data": {
      "image/png": "[encoded data removed]",
      "text/plain": [
       "<Figure size 576x360 with 1 Axes>"
      ]
     },
     "metadata": {
      "needs_background": "light"
     },
     "output_type": "display_data"
    }
   ],
   "source": [
    "# Visualizing the main categories\n",
    "data['primary_category'].value_counts()[:28].plot(kind = 'barh', figsize=(8, 5))"
   ]
  },
  {
   "cell_type": "markdown",
   "metadata": {},
   "source": [
    "The 1 to 2 item categories are outliers which will **interfere** with the prediction model. They need to be removed.\n",
    "\n",
    "Arranging the 193 one-category items would be a big manual task. Its better to remove this data.\n",
    "\n",
    "There is a good primary category called Household Supplies, which has 4 items. Since its a primary category, we cannot just remove it. Since its manually possible, we can try to categorize some categories into better primary categories.\n",
    "\n",
    "For the 20 categories having items less than 10, we can categorize them into better primary categories manually."
   ]
  },
  {
   "cell_type": "markdown",
   "metadata": {},
   "source": [
    "### As a preliminary step, I will keep the data as it is, and run ML models to see how accurate the model is working."
   ]
  },
  {
   "cell_type": "markdown",
   "metadata": {},
   "source": [
    "# Step 2 : Setup ML Models"
   ]
  },
  {
   "cell_type": "code",
   "execution_count": 22,
   "metadata": {},
   "outputs": [
    {
     "name": "stdout",
     "output_type": "stream",
     "text": [
      "X Training Set :  (13998,)\n",
      "X Test Set :  (6000,)\n"
     ]
    }
   ],
   "source": [
    "# Preparing Training Data\n",
    "X = data['description']\n",
    "y = data['primary_category']\n",
    "X_train, X_test, y_train, y_test = train_test_split(X, y, test_size = 0.3, random_state= 77)\n",
    "print(\"X Training Set : \", X_train.shape)\n",
    "print(\"X Test Set : \", X_test.shape)"
   ]
  },
  {
   "cell_type": "markdown",
   "metadata": {},
   "source": [
    "## Vectorizing Text Data for Feature Extraction\n",
    "\n",
    "I'll be using CountVectorizer & TF-IDFVectorizer to extract features using Linear Support Vector Machine Algorithm. Linear SVC is considered to be one of the best algorithms for Text Classification.\n",
    "\n",
    "Based on their performance, the specific vectorizer will be used alongside the ML algorithms through the \n",
    "scikit-learn pipeline."
   ]
  },
  {
   "cell_type": "markdown",
   "metadata": {},
   "source": [
    "## Using Pipeline for SVC with CountVectorizer"
   ]
  },
  {
   "cell_type": "code",
   "execution_count": 23,
   "metadata": {},
   "outputs": [
    {
     "name": "stderr",
     "output_type": "stream",
     "text": [
      "/home/aryan/anaconda3/envs/machinelearning/lib/python3.7/site-packages/sklearn/svm/_base.py:977: ConvergenceWarning: Liblinear failed to converge, increase the number of iterations.\n",
      "  \"the number of iterations.\", ConvergenceWarning)\n"
     ]
    },
    {
     "name": "stdout",
     "output_type": "stream",
     "text": [
      "0.9553333333333334\n"
     ]
    }
   ],
   "source": [
    "# Text Feature extraction with CountVectorizer\n",
    "clf_cvec_lsvc = Pipeline([('cvec', CountVectorizer()),\n",
    "                     ('clf', LinearSVC())])\n",
    "\n",
    "# Feed the training data through the pipeline\n",
    "clf_cvec_lsvc.fit(X_train, y_train)\n",
    "\n",
    "# Form a prediction set\n",
    "predictions = clf_cvec_lsvc.predict(X_test.astype('U').values)\n",
    "\n",
    "# Print the overall accuracy\n",
    "print(metrics.accuracy_score(y_test,predictions))"
   ]
  },
  {
   "cell_type": "markdown",
   "metadata": {},
   "source": [
    "## Using Pipeline for SVC with TF-IDF Vectorizer"
   ]
  },
  {
   "cell_type": "code",
   "execution_count": 24,
   "metadata": {},
   "outputs": [
    {
     "name": "stdout",
     "output_type": "stream",
     "text": [
      "0.9633333333333334\n"
     ]
    }
   ],
   "source": [
    "# Text Feature extraction with TF-IDF\n",
    "clf_tfidf_lsvc = Pipeline([('tfidf', TfidfVectorizer()),\n",
    "                     ('clf', LinearSVC())])\n",
    "# Feed the training data through the pipeline\n",
    "clf_tfidf_lsvc.fit(X_train, y_train)\n",
    "\n",
    "# Form a prediction set\n",
    "predictions = clf_tfidf_lsvc.predict(X_test.astype('U').values)\n",
    "\n",
    "# Print the overall accuracy\n",
    "print(metrics.accuracy_score(y_test,predictions))"
   ]
  },
  {
   "cell_type": "markdown",
   "metadata": {},
   "source": [
    "### TF-IDF gives better accuracy than CountVectorizer. Therefore, I will use TF-IDF along with other ML Models too."
   ]
  },
  {
   "cell_type": "markdown",
   "metadata": {},
   "source": [
    "## Using Pipeline for Naive Bayes"
   ]
  },
  {
   "cell_type": "code",
   "execution_count": 25,
   "metadata": {},
   "outputs": [
    {
     "name": "stdout",
     "output_type": "stream",
     "text": [
      "0.7816666666666666\n"
     ]
    }
   ],
   "source": [
    "# Naive Bayes\n",
    "clf_tfidf_mnb = Pipeline([('tfidf', TfidfVectorizer()),\n",
    "                     ('clf', MultinomialNB())])\n",
    "\n",
    "# Feed the training data through the pipeline\n",
    "clf_tfidf_mnb.fit(X_train, y_train)  \n",
    "\n",
    "# Form a prediction set\n",
    "predictions = clf_tfidf_mnb.predict(X_test.astype('U').values)\n",
    "\n",
    "# Print the overall accuracy\n",
    "print(metrics.accuracy_score(y_test,predictions))"
   ]
  },
  {
   "cell_type": "markdown",
   "metadata": {},
   "source": [
    "## Using Pipeline for Logistic Regression"
   ]
  },
  {
   "cell_type": "code",
   "execution_count": 26,
   "metadata": {},
   "outputs": [
    {
     "name": "stderr",
     "output_type": "stream",
     "text": [
      "/home/aryan/anaconda3/envs/machinelearning/lib/python3.7/site-packages/sklearn/linear_model/_logistic.py:764: ConvergenceWarning: lbfgs failed to converge (status=1):\n",
      "STOP: TOTAL NO. of ITERATIONS REACHED LIMIT.\n",
      "\n",
      "Increase the number of iterations (max_iter) or scale the data as shown in:\n",
      "    https://scikit-learn.org/stable/modules/preprocessing.html\n",
      "Please also refer to the documentation for alternative solver options:\n",
      "    https://scikit-learn.org/stable/modules/linear_model.html#logistic-regression\n",
      "  extra_warning_msg=_LOGISTIC_SOLVER_CONVERGENCE_MSG)\n"
     ]
    },
    {
     "name": "stdout",
     "output_type": "stream",
     "text": [
      "0.9386666666666666\n"
     ]
    }
   ],
   "source": [
    "# Logistic Regression\n",
    "clf_tfidf_lr = Pipeline([('tfidf', TfidfVectorizer()),\n",
    "                     ('clf', LogisticRegression())])\n",
    "\n",
    "# Feed the training data through the pipeline\n",
    "clf_tfidf_lr.fit(X_train, y_train)\n",
    "\n",
    "# Form a prediction set\n",
    "predictions = clf_tfidf_lr.predict(X_test.astype('U').values)\n",
    "\n",
    "# Print the overall accuracy\n",
    "print(metrics.accuracy_score(y_test,predictions))"
   ]
  },
  {
   "cell_type": "markdown",
   "metadata": {},
   "source": [
    "## Using Pipeline for K Nearest Neighbours (KNN) Classifier"
   ]
  },
  {
   "cell_type": "code",
   "execution_count": 27,
   "metadata": {},
   "outputs": [
    {
     "name": "stdout",
     "output_type": "stream",
     "text": [
      "0.9381666666666667\n"
     ]
    }
   ],
   "source": [
    "# KNN Classifier\n",
    "clf_tfidf_knc = Pipeline([('tfidf', TfidfVectorizer()),\n",
    "                     ('clf', KNeighborsClassifier())])\n",
    "\n",
    "# Feed the training data through the pipeline\n",
    "clf_tfidf_knc.fit(X_train, y_train)\n",
    "\n",
    "# Form a prediction set\n",
    "predictions = clf_tfidf_knc.predict(X_test.astype('U').values)\n",
    "\n",
    "# Print the overall accuracy\n",
    "print(metrics.accuracy_score(y_test,predictions))"
   ]
  },
  {
   "cell_type": "markdown",
   "metadata": {},
   "source": [
    "## Using Pipeline for Random Forest"
   ]
  },
  {
   "cell_type": "code",
   "execution_count": 28,
   "metadata": {},
   "outputs": [
    {
     "name": "stdout",
     "output_type": "stream",
     "text": [
      "0.9268333333333333\n"
     ]
    }
   ],
   "source": [
    "# Random Forest\n",
    "clf_tfidf_rfc = Pipeline([('tfidf', TfidfVectorizer()),\n",
    "                     ('clf', RandomForestClassifier())])\n",
    "\n",
    "# Feed the training data through the pipeline\n",
    "clf_tfidf_rfc.fit(X_train, y_train)\n",
    "\n",
    "# Form a prediction set\n",
    "predictions = clf_tfidf_rfc.predict(X_test.astype('U').values)\n",
    "\n",
    "# Print the overall accuracy\n",
    "print(metrics.accuracy_score(y_test,predictions))"
   ]
  },
  {
   "cell_type": "markdown",
   "metadata": {},
   "source": [
    "The best accuracy till now is through Linear SVC(96.33%). I will therefore use this model to make further improvements."
   ]
  },
  {
   "cell_type": "markdown",
   "metadata": {},
   "source": [
    "# Step 3 : Iterative Data Processing\n",
    "\n",
    "## A. Cleaning data in the description column"
   ]
  },
  {
   "cell_type": "code",
   "execution_count": 29,
   "metadata": {},
   "outputs": [
    {
     "data": {
      "text/plain": [
       "\"Specifications of Vishudh Printed Women's Straight Kurta Kurta Details Sleeve Sleeveless Number of Contents in Sales Package Pack of 1 Fabric 100% POLYESTER Type Straight Neck ROUND NECK General Details Pattern Printed Occasion Festive Ideal For Women's In the Box Kurta Additional Details Style Code VNKU004370 PINK::OLIVE Fabric Care Gentle Machine Wash in Lukewarm Water, Do Not Bleach\""
      ]
     },
     "execution_count": 29,
     "metadata": {},
     "output_type": "execute_result"
    }
   ],
   "source": [
    "# Lets take the example of a random description\n",
    "data['description'][45]"
   ]
  },
  {
   "cell_type": "code",
   "execution_count": 30,
   "metadata": {},
   "outputs": [
    {
     "data": {
      "text/plain": [
       "'specifications of vishudh printed women straight kurta kurta details sleeve sleeveless number of contents in sales package pack of fabric polyester type straight neck round neck general details pattern printed occasion festive ideal for women in the box kurta additional details style code pink olive fabric care gentle machine wash in lukewarm water do not bleach'"
      ]
     },
     "execution_count": 30,
     "metadata": {},
     "output_type": "execute_result"
    }
   ],
   "source": [
    "# Applying data preprocessing techniques\n",
    "data['description'] = data['description'].str.lower()  # Lowercase\n",
    "data['description'] = data['description'].str.replace('http\\S+', '')  # Remove links\n",
    "data[\"description\"] = data['description'].str.replace('[^\\w\\s]',' ')  # Remove Punctuations\n",
    "data[\"description\"] = data['description'].str.replace('\\w*\\d\\w*','')  # Remove Strings containing numbers i.e. codes & NUmbers\n",
    "data[\"description\"] = data['description'].str.replace(r'\\b\\w\\b', '').str.replace(r'\\s+', ' ')  # Remove single alphabets & extra spaces\n",
    "data['description'][45]"
   ]
  },
  {
   "cell_type": "markdown",
   "metadata": {},
   "source": [
    "### Removing Stopwords"
   ]
  },
  {
   "cell_type": "code",
   "execution_count": 31,
   "metadata": {
    "scrolled": true
   },
   "outputs": [
    {
     "name": "stdout",
     "output_type": "stream",
     "text": [
      "{'needn', 'haven', 'over', 'such', 'which', 'about', \"that'll\", 'here', 'for', 'have', 'of', \"won't\", 've', \"hasn't\", 'they', 'who', 'no', \"it's\", 'as', 'has', 'i', 'am', 'will', 'doesn', 'my', \"mightn't\", \"wouldn't\", 'her', 'until', 'itself', 'while', 'ours', 'not', 'whom', \"you're\", 'after', 'can', 'being', 'had', 'to', 'd', 'but', 'wasn', 'into', 'at', \"mustn't\", 'himself', 'above', 'any', 'ain', 'against', 'o', \"don't\", 'mustn', 'or', 'under', 'you', \"aren't\", 'theirs', 'further', 'does', 'this', 'hasn', 'yourself', 'he', 'weren', 'all', 's', 'didn', 'wouldn', 'myself', \"you'd\", 'hers', 'other', 'own', 'and', 'from', 'most', 'should', 'is', 'how', 'their', \"doesn't\", \"should've\", \"weren't\", 'couldn', 'both', 'we', 'where', 'did', 'y', \"wasn't\", 'each', 'be', 'only', 'so', 'very', 'don', 'what', 'between', 'me', \"couldn't\", 'she', 'them', 'before', 'up', 're', 'then', 'was', 'in', 'by', 'aren', \"shan't\", \"isn't\", 'once', 'ma', 'isn', 'during', 'out', 'll', \"she's\", 'than', 't', 'the', \"haven't\", 'with', 'it', 'too', 'because', 'yourselves', 'down', 'an', 'again', 'hadn', 'now', 'won', 'if', 'its', 'his', 'themselves', 'doing', 'herself', 'a', 'your', 'ourselves', 'when', \"shouldn't\", 'through', 'm', 'mightn', 'are', 'nor', 'shouldn', 'having', 'shan', \"didn't\", 'were', 'yours', 'those', 'these', 'few', \"you've\", 'below', \"needn't\", 'him', 'there', \"hadn't\", 'our', 'some', 'same', 'do', 'on', \"you'll\", 'been', 'just', 'that', 'off', 'more', 'why'}\n"
     ]
    }
   ],
   "source": [
    "stop_words = set(stopwords.words('english'))\n",
    "print(stop_words)"
   ]
  },
  {
   "cell_type": "markdown",
   "metadata": {},
   "source": [
    "### Training Model"
   ]
  },
  {
   "cell_type": "code",
   "execution_count": 32,
   "metadata": {},
   "outputs": [
    {
     "name": "stdout",
     "output_type": "stream",
     "text": [
      "X Training Set :  (13998,)\n",
      "X Test Set :  (6000,)\n"
     ]
    }
   ],
   "source": [
    "# Preparing Data\n",
    "X = data['description']\n",
    "y = data['primary_category']\n",
    "X_train, X_test, y_train, y_test = train_test_split(X, y, test_size = 0.3, random_state= 42)\n",
    "print(\"X Training Set : \", X_train.shape)\n",
    "print(\"X Test Set : \", X_test.shape)"
   ]
  },
  {
   "cell_type": "markdown",
   "metadata": {},
   "source": [
    "### Using pipeline for Linear SVC with TF-IDF and removing stopwords"
   ]
  },
  {
   "cell_type": "code",
   "execution_count": 33,
   "metadata": {},
   "outputs": [
    {
     "name": "stdout",
     "output_type": "stream",
     "text": [
      "0.9645\n"
     ]
    }
   ],
   "source": [
    "clf_tfidf_lsvc2 = Pipeline([('tfidf', TfidfVectorizer(stop_words=stop_words)),\n",
    "                     ('clf', LinearSVC())])\n",
    "\n",
    "# Feed the training data through the pipeline\n",
    "clf_tfidf_lsvc2.fit(X_train, y_train)\n",
    "\n",
    "predictions = clf_tfidf_lsvc2.predict(X_test.astype('U').values)\n",
    "# Print the overall accuracy\n",
    "print(metrics.accuracy_score(y_test,predictions))"
   ]
  },
  {
   "cell_type": "markdown",
   "metadata": {},
   "source": [
    "**There is an increase from 96.33% to 96.45%, after preprocessing data of description column.**\n",
    "\n",
    "I further tried adding more stopwords, but that decreased the accuracy of the model. (Experiment Log #2)"
   ]
  },
  {
   "cell_type": "markdown",
   "metadata": {},
   "source": [
    "## B. Removing outlier data"
   ]
  },
  {
   "cell_type": "markdown",
   "metadata": {},
   "source": [
    "### Now I will remove the 217 rows of skewed data, and test the model again."
   ]
  },
  {
   "cell_type": "code",
   "execution_count": 34,
   "metadata": {},
   "outputs": [
    {
     "data": {
      "text/plain": [
       "<AxesSubplot:ylabel='primary_category'>"
      ]
     },
     "execution_count": 34,
     "metadata": {},
     "output_type": "execute_result"
    },
    {
     "data": {
      "image/png": "[encoded data removed]",
      "text/plain": [
       "<Figure size 720x720 with 1 Axes>"
      ]
     },
     "metadata": {},
     "output_type": "display_data"
    }
   ],
   "source": [
    "# Visualizing unique groups of primary_category\n",
    "fig, ax = plt.subplots(1, 1, figsize=(10, 10))\n",
    "data['primary_category'].value_counts().plot.pie(autopct = '%1.1f%%')"
   ]
  },
  {
   "cell_type": "markdown",
   "metadata": {},
   "source": [
    "The right part of the chart consists of categories which contain less than 1% of the products. These products and their categories should be removed for better performance of the model."
   ]
  },
  {
   "cell_type": "code",
   "execution_count": 35,
   "metadata": {},
   "outputs": [
    {
     "name": "stdout",
     "output_type": "stream",
     "text": [
      "217\n"
     ]
    }
   ],
   "source": [
    "# Lets try by removing the skewed data\n",
    "vc_new = data['primary_category'].value_counts()\n",
    "print (len(vc_new[vc_new < 3]))"
   ]
  },
  {
   "cell_type": "markdown",
   "metadata": {},
   "source": [
    "Implies 217 rows can be removed."
   ]
  },
  {
   "cell_type": "code",
   "execution_count": 36,
   "metadata": {
    "scrolled": true
   },
   "outputs": [
    {
     "data": {
      "text/plain": [
       "(19757, 3)"
      ]
     },
     "execution_count": 36,
     "metadata": {},
     "output_type": "execute_result"
    }
   ],
   "source": [
    "counts = data['primary_category'].value_counts()\n",
    "data = data[~data['primary_category'].isin(counts[counts < 3].index)]\n",
    "data.shape"
   ]
  },
  {
   "cell_type": "markdown",
   "metadata": {},
   "source": [
    "## Training Model"
   ]
  },
  {
   "cell_type": "code",
   "execution_count": 37,
   "metadata": {},
   "outputs": [],
   "source": [
    "# Preparing Data\n",
    "X = data['description']\n",
    "y = data['primary_category']\n",
    "X_train, X_test, y_train, y_test = train_test_split(X, y, test_size = 0.3, random_state= 77) # max at 77"
   ]
  },
  {
   "cell_type": "code",
   "execution_count": 38,
   "metadata": {},
   "outputs": [
    {
     "name": "stdout",
     "output_type": "stream",
     "text": [
      "0.9760458839406208\n"
     ]
    }
   ],
   "source": [
    "clf_tfidf_lsvc2 = Pipeline([('tfidf', TfidfVectorizer(stop_words=stop_words)),\n",
    "                     ('clf', LinearSVC())])\n",
    "\n",
    "# Feed the training data through the pipeline\n",
    "clf_tfidf_lsvc2.fit(X_train, y_train)\n",
    "\n",
    "predictions = clf_tfidf_lsvc2.predict(X_test.astype('U').values)\n",
    "\n",
    "# Print the overall accuracy\n",
    "print(metrics.accuracy_score(y_test,predictions))"
   ]
  },
  {
   "cell_type": "markdown",
   "metadata": {},
   "source": [
    "### **Accuracy of the Model increased to 97.6 % from 96.45%.**"
   ]
  },
  {
   "cell_type": "markdown",
   "metadata": {},
   "source": [
    "## C. Curating sub-categories to super-categories\n",
    "\n",
    "For the 20 categories having items less than 10, we can categorize them into better primary categories manually."
   ]
  },
  {
   "cell_type": "code",
   "execution_count": 39,
   "metadata": {},
   "outputs": [],
   "source": [
    "data.loc[(data.primary_category == \"Clovia Women's Full Coverage Bra\"), 'primary_category']='Clothing'\n",
    "data.loc[(data.primary_category == \"Lilliput Top Baby Girl's  Combo\"), 'primary_category']='Clothing'\n",
    "data.loc[(data.primary_category == \"Vishudh Printed Women's Straight Kurta\"), 'primary_category']='Clothing'\n",
    "data.loc[(data.primary_category == \"Olvin Aviator Sunglasses\"), 'primary_category']='Sunglasses'\n",
    "data.loc[(data.primary_category == \"Clovia Women's T-Shirt Bra\"), 'primary_category']='Clothing'\n",
    "data.loc[(data.primary_category == \"MASARA Solid Women's Straight Kurta\"), 'primary_category']='Clothing'\n",
    "data.loc[(data.primary_category == \"FEET FLOW Women Flats\"), 'primary_category']='Footwear'\n",
    "data.loc[(data.primary_category == \"Dressberry Gold Synthetic  Clutch\"), 'primary_category']='Jewellery'\n",
    "data.loc[(data.primary_category == \"Olvin Wayfarer Sunglasses\"), 'primary_category']='Sunglasses'\n",
    "data.loc[(data.primary_category == \"Pu-Good Women Flats\"), 'primary_category']='Footwear'\n",
    "data.loc[(data.primary_category == \"Indistar Self Design Viscose Women's Stole\"), 'primary_category']='Clothing'\n",
    "data.loc[(data.primary_category == \"Ruhi's Creations Polyester Silk Blend Cartoon Ki...\"), 'primary_category']='Clothing'\n",
    "data.loc[(data.primary_category == \"Pout Brass Bangle\"), 'primary_category']='Jewellery'\n",
    "data.loc[(data.primary_category == \"Dilan Jewels Alloy Zircon 18K Yellow Gold Bangle...\"), 'primary_category']='Jewellery'\n",
    "data.loc[(data.primary_category == \"Frabjous German silver Rings For Women Alloy Zir...\"), 'primary_category']='Jewellery'\n",
    "data.loc[(data.primary_category == \"Treppe Bellies\"), 'primary_category']='Footwear'\n",
    "data.loc[(data.primary_category == \"Dassler Slim Fit Women's Multicolor Jeans\"), 'primary_category']='Clothing'\n",
    "data.loc[(data.primary_category == \"Olvin Oval Sunglasses\"), 'primary_category']='Sunglasses'\n",
    "data.loc[(data.primary_category == \"Firangi Cotton, Polyester Free Floor Mat Firangi...\"), 'primary_category']='Home Furnishing'\n",
    "\n",
    "# Sunglasses can themselves be a part of Eyewear\n",
    "data.loc[(data.primary_category == \"Sunglasses\"), 'primary_category']='Eyewear'"
   ]
  },
  {
   "cell_type": "code",
   "execution_count": 40,
   "metadata": {
    "scrolled": true
   },
   "outputs": [
    {
     "name": "stdout",
     "output_type": "stream",
     "text": [
      "Clothing                             6242\n",
      "Jewellery                            3544\n",
      "Footwear                             1238\n",
      "Mobiles & Accessories                1099\n",
      "Automotive                           1012\n",
      "Home Decor & Festive Needs            929\n",
      "Beauty and Personal Care              710\n",
      "Home Furnishing                       703\n",
      "Kitchen & Dining                      647\n",
      "Computers                             578\n",
      "Watches                               530\n",
      "Baby Care                             483\n",
      "Tools & Hardware                      391\n",
      "Toys & School Supplies                330\n",
      "Pens & Stationery                     313\n",
      "Bags, Wallets & Belts                 265\n",
      "Furniture                             180\n",
      "Sports & Fitness                      166\n",
      "Cameras & Accessories                  82\n",
      "Home Improvement                       81\n",
      "Eyewear                                64\n",
      "Health & Personal Care Appliances      43\n",
      "Gaming                                 35\n",
      "Pet Supplies                           30\n",
      "Home & Kitchen                         24\n",
      "Home Entertainment                     19\n",
      "eBooks                                 15\n",
      "Household Supplies                      4\n",
      "Name: primary_category, dtype: int64\n"
     ]
    }
   ],
   "source": [
    "# List unique groups in primary_category\n",
    "value_count = data['primary_category'].value_counts()\n",
    "print(value_count[value_count > 1])"
   ]
  },
  {
   "cell_type": "code",
   "execution_count": 41,
   "metadata": {},
   "outputs": [
    {
     "data": {
      "text/plain": [
       "<AxesSubplot:ylabel='primary_category'>"
      ]
     },
     "execution_count": 41,
     "metadata": {},
     "output_type": "execute_result"
    },
    {
     "data": {
      "image/png": "[encoded data removed]",
      "text/plain": [
       "<Figure size 720x720 with 1 Axes>"
      ]
     },
     "metadata": {},
     "output_type": "display_data"
    }
   ],
   "source": [
    "# Visualizing unique groups of primary_category\n",
    "fig, ax = plt.subplots(1, 1, figsize=(10,10))\n",
    "data['primary_category'].value_counts().plot.pie(autopct = '%1.1f%%')"
   ]
  },
  {
   "cell_type": "markdown",
   "metadata": {},
   "source": [
    "## Training Model"
   ]
  },
  {
   "cell_type": "code",
   "execution_count": 42,
   "metadata": {},
   "outputs": [],
   "source": [
    "# Preparing Data\n",
    "X = data['description']\n",
    "y = data['primary_category']\n",
    "X_train, X_test, y_train, y_test = train_test_split(X, y, test_size = 0.3, random_state= 77) # max at 77"
   ]
  },
  {
   "cell_type": "code",
   "execution_count": 43,
   "metadata": {},
   "outputs": [
    {
     "name": "stdout",
     "output_type": "stream",
     "text": [
      "0.979251012145749\n"
     ]
    }
   ],
   "source": [
    "clf_tfidf_lsvc2 = Pipeline([('tfidf', TfidfVectorizer(stop_words=stop_words)),\n",
    "                     ('clf', LinearSVC())])\n",
    "\n",
    "# Feed the training data through the pipeline\n",
    "clf_tfidf_lsvc2.fit(X_train, y_train)\n",
    "\n",
    "predictions = clf_tfidf_lsvc2.predict(X_test.astype('U').values)\n",
    "\n",
    "# Print the overall accuracy\n",
    "print(metrics.accuracy_score(y_test,predictions))"
   ]
  },
  {
   "cell_type": "markdown",
   "metadata": {},
   "source": [
    "## Measuring Accuracy of Model"
   ]
  },
  {
   "cell_type": "code",
   "execution_count": 44,
   "metadata": {},
   "outputs": [
    {
     "name": "stdout",
     "output_type": "stream",
     "text": [
      "[[ 320    0    0    0    0    0    0    0    0    0    1    0    0    1\n",
      "     1    0    0    0    0    1    0    0    0    0    0    0    0    0]\n",
      " [   1  118    0    0    0    7    0    0    0    0    0    0    0    5\n",
      "     0    4    0    0    0    0    0    0    0    1    0    2    0    0]\n",
      " [   0    0   66    1    0    0    0    0    0    0    0    0    0    0\n",
      "     0    0    0    0    1    0    0    0    0    0    0    0    0    0]\n",
      " [   0    0    0  208    0    1    0    0    0    0    0    0    0    1\n",
      "     0    0    0    0    2    1    0    0    0    0    0    1    0    0]\n",
      " [   1    0    0    0   25    0    0    0    0    0    0    0    0    0\n",
      "     0    0    0    0    0    0    0    0    0    0    0    0    0    0]\n",
      " [   0    4    0    0    0 1840    0    0    0    0    0    0    0    0\n",
      "     0    0    0    0    2    0    0    0    0    0    0    0    0    0]\n",
      " [   0    0    0    0    0    0  160    0    0    0    0    0    0    0\n",
      "     0    0    0    0    0    0    6    0    0    0    0    0    0    0]\n",
      " [   0    0    0    0    0    0    0   16    0    0    0    0    0    0\n",
      "     0    0    0    0    0    0    0    0    0    0    0    0    0    0]\n",
      " [   0    0    0    0    0    3    0    0  375    0    0    0    0    0\n",
      "     0    0    0    0    0    0    0    0    0    0    0    0    0    0]\n",
      " [   0    0    0    0    0    0    0    0    0   61    0    0    0    1\n",
      "     0    0    0    0    0    0    0    0    0    0    0    0    0    0]\n",
      " [   0    0    0    0    0    0    0    0    0    0    8    0    0    0\n",
      "     0    0    0    0    0    0    0    0    0    0    0    0    0    0]\n",
      " [   0    0    0    1    0    0    0    0    0    0    0   11    0    0\n",
      "     0    0    0    0    0    0    0    0    0    0    0    0    0    0]\n",
      " [   0    0    0    0    0    0    1    0    0    0    0    0    3    0\n",
      "     0    0    0    0    0    0    1    0    0    0    0    0    0    0]\n",
      " [   0    1    0    1    0    0    0    0    0    1    0    0    0  295\n",
      "     0    0    0    0    1    0    0    1    0    0    0    0    0    0]\n",
      " [   0    0    0    0    0    0    1    0    0    0    0    0    0    0\n",
      "     4    0    0    0    0    0    1    0    0    0    0    0    0    0]\n",
      " [   0    1    0    0    0    1    0    0    0    0    0    0    0    0\n",
      "     0  194    0    0    0    0    0    0    0    0    0    0    0    0]\n",
      " [   0    0    0    0    0    0    0    0    0    0    0    0    0    0\n",
      "     0    1   17    0    0    1    1    0    0    0    1    0    0    0]\n",
      " [   0    0    0    0    0    0    0    0    0    0    0    0    0    0\n",
      "     0    0    0    1    0    0    0    0    0    0    0    0    0    0]\n",
      " [   0    0    0    0    0    0    0    0    0    0    0    0    0    0\n",
      "     0    0    0    0 1082    0    0    0    0    0    0    0    0    0]\n",
      " [   0    0    0    0    0    1    0    0    0    0    0    0    0    0\n",
      "     0    1    0    0    0  195    0    0    0    0    0    0    0    0]\n",
      " [   4    0    0    0    1    1    0    0    0    0    0    0    0    0\n",
      "     0    0    0    0    0    0  326    0    0    0    0    0    0    0]\n",
      " [   0    0    0    1    0    0    1    0    0    0    0    0    0    5\n",
      "     0    0    0    0    0    2    0   68    0    2    0   13    0    0]\n",
      " [   0    0    0    0    0    0    0    0    0    0    0    0    0    0\n",
      "     0    0    0    0    0    0    0    0    5    0    0    0    0    0]\n",
      " [   0    0    1    1    0    1    0    0    0    0    0    0    0    0\n",
      "     0    0    0    0    0    2    0    0    0   45    0    1    0    0]\n",
      " [   0    0    0    0    0    0    0    0    0    0    0    0    0    2\n",
      "     0    0    0    0    0    1    0    0    0    0  102    1    0    0]\n",
      " [   1    0    0    0    0    1    0    0    0    0    0    0    0    0\n",
      "     0    0    0    0    0    2    0    7    0    0    0   88    0    0]\n",
      " [   0    0    0    0    0    2    0    0    0    0    0    0    0    0\n",
      "     0    0    0    0    0    0    0    0    0    0    0    0  169    0]\n",
      " [   0    0    0    0    0    0    0    0    0    0    0    0    0    0\n",
      "     0    0    0    0    0    3    0    0    0    0    0    0    0    3]]\n",
      "                                   precision    recall  f1-score   support\n",
      "\n",
      "                       Automotive       0.98      0.99      0.98       324\n",
      "                        Baby Care       0.95      0.86      0.90       138\n",
      "            Bags, Wallets & Belts       0.99      0.97      0.98        68\n",
      "         Beauty and Personal Care       0.98      0.97      0.97       214\n",
      "            Cameras & Accessories       0.96      0.96      0.96        26\n",
      "                         Clothing       0.99      1.00      0.99      1846\n",
      "                        Computers       0.98      0.96      0.97       166\n",
      "                          Eyewear       1.00      1.00      1.00        16\n",
      "                         Footwear       1.00      0.99      1.00       378\n",
      "                        Furniture       0.98      0.98      0.98        62\n",
      "                           Gaming       0.89      1.00      0.94         8\n",
      "Health & Personal Care Appliances       1.00      0.92      0.96        12\n",
      "                   Home & Kitchen       1.00      0.60      0.75         5\n",
      "       Home Decor & Festive Needs       0.95      0.98      0.97       300\n",
      "               Home Entertainment       0.80      0.67      0.73         6\n",
      "                  Home Furnishing       0.97      0.99      0.98       196\n",
      "                 Home Improvement       1.00      0.81      0.89        21\n",
      "               Household Supplies       1.00      1.00      1.00         1\n",
      "                        Jewellery       0.99      1.00      1.00      1082\n",
      "                 Kitchen & Dining       0.94      0.99      0.96       197\n",
      "            Mobiles & Accessories       0.97      0.98      0.98       332\n",
      "                Pens & Stationery       0.89      0.74      0.81        92\n",
      "                     Pet Supplies       1.00      1.00      1.00         5\n",
      "                 Sports & Fitness       0.94      0.88      0.91        51\n",
      "                 Tools & Hardware       0.99      0.96      0.98       106\n",
      "           Toys & School Supplies       0.83      0.89      0.86        99\n",
      "                          Watches       1.00      0.99      0.99       171\n",
      "                           eBooks       1.00      0.50      0.67         6\n",
      "\n",
      "                         accuracy                           0.98      5928\n",
      "                        macro avg       0.96      0.91      0.93      5928\n",
      "                     weighted avg       0.98      0.98      0.98      5928\n",
      "\n"
     ]
    }
   ],
   "source": [
    "# Report the confusion matrix\n",
    "print(metrics.confusion_matrix(y_test,predictions))\n",
    "# Print a classification report\n",
    "print(metrics.classification_report(y_test,predictions))"
   ]
  },
  {
   "cell_type": "markdown",
   "metadata": {},
   "source": [
    "# Conclusion"
   ]
  },
  {
   "cell_type": "markdown",
   "metadata": {},
   "source": [
    "### **For this task, the best prediction model was using Linear SVC using TF-IDF Vectorizer, with an accuracy of 97.92%!**"
   ]
  },
  {
   "cell_type": "markdown",
   "metadata": {},
   "source": [
    "### Improvements\n",
    "\n",
    "I think the accuracy of the Model can be improved in the following ways : \n",
    "* Some of the chosen Primary Categories are similar i.e. Home Decor, Home Furnishings, Home Entertainment. This may be used to create a single category known as ‘Home’. Creating a superclass will always improve accuracy.\n",
    "\n",
    "* Other columns such as ‘product_name’ and ‘product_specifications’ could have been used as input features to improve the model.\n",
    "\n",
    "* Using NLP based Deep Learning Models involving Transformer Models, and NLP techniques such as Bag of Words, and Word2Vec, Word Embeddings using Gensim etc.\n"
   ]
  }
 ],
 "metadata": {
  "kernelspec": {
   "display_name": "Python 3",
   "language": "python",
   "name": "python3"
  },
  "language_info": {
   "codemirror_mode": {
    "name": "ipython",
    "version": 3
   },
   "file_extension": ".py",
   "mimetype": "text/x-python",
   "name": "python",
   "nbconvert_exporter": "python",
   "pygments_lexer": "ipython3",
   "version": "3.7.9"
  }
 },
 "nbformat": 4,
 "nbformat_minor": 4
}
